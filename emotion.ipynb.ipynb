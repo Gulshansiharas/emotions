{
  "cells": [
    {
      "cell_type": "code",
      "execution_count": null,
      "metadata": {
        "id": "ZEGlu9D9-UHx"
      },
      "outputs": [],
      "source": [
        "import matplotlib.pyplot as plt\n",
        "import numpy as np\n",
        "import scipy\n",
        "import pandas as pd\n"
      ]
    },
    {
      "cell_type": "code",
      "execution_count": null,
      "metadata": {
        "id": "TmIjTwTg40qx"
      },
      "outputs": [],
      "source": [
        "from keras.models import Sequential\n",
        "from keras.layers import Conv2D, MaxPooling2D, Dense, Dropout, Flatten\n",
        "from keras.optimizers import Adam\n",
        "from keras.preprocessing.image import ImageDataGenerator\n",
        "from tensorflow.keras.optimizers import Adam\n",
        "from tensorflow.keras.preprocessing.image import ImageDataGenerator\n",
        "from tensorflow.keras.optimizers.schedules import ExponentialDecay\n",
        "import cv2\n",
        "from keras.models import model_from_json\n",
        "import numpy as np"
      ]
    },
    {
      "cell_type": "code",
      "execution_count": null,
      "metadata": {
        "id": "HbOWz9gPOOFs"
      },
      "outputs": [],
      "source": [
        "import zipfile\n",
        "zip_ref = zipfile.ZipFile('/content/drive/MyDrive/Colab Notebooks/emot.zip', 'r')\n",
        "zip_ref.extractall('/content')\n",
        "zip_ref.close()"
      ]
    },
    {
      "cell_type": "code",
      "source": [],
      "metadata": {
        "id": "InwSB3AFiQ1l"
      },
      "execution_count": null,
      "outputs": []
    },
    {
      "cell_type": "code",
      "source": [
        "from google.colab import drive\n",
        "drive.mount('/content/drive')"
      ],
      "metadata": {
        "id": "vsUepBqCg_QR"
      },
      "execution_count": null,
      "outputs": []
    },
    {
      "cell_type": "code",
      "execution_count": null,
      "metadata": {
        "id": "wazCA7qBGJUP"
      },
      "outputs": [],
      "source": [
        "train_data_gen = ImageDataGenerator(rescale=1./255)\n",
        "validation_data_gen = ImageDataGenerator(rescale=1./255)"
      ]
    },
    {
      "cell_type": "code",
      "execution_count": null,
      "metadata": {
        "colab": {
          "base_uri": "https://localhost:8080/"
        },
        "id": "FOs60yozGabB",
        "outputId": "fca0d1ee-65e1-4771-df6b-09a98f4f0c22"
      },
      "outputs": [
        {
          "name": "stdout",
          "output_type": "stream",
          "text": [
            "Found 28709 images belonging to 7 classes.\n"
          ]
        }
      ],
      "source": [
        "\n",
        "train_generator = train_data_gen.flow_from_directory(\n",
        "    '/content/train',\n",
        "    target_size=(48, 48),\n",
        "    batch_size=64,\n",
        "    color_mode=\"grayscale\",\n",
        "    class_mode='categorical')"
      ]
    },
    {
      "cell_type": "code",
      "execution_count": null,
      "metadata": {
        "colab": {
          "base_uri": "https://localhost:8080/"
        },
        "id": "1bh2A802Gjla",
        "outputId": "1d9ccb7b-34ed-46ba-e7ac-58cb4c156ef0"
      },
      "outputs": [
        {
          "name": "stdout",
          "output_type": "stream",
          "text": [
            "Found 7178 images belonging to 7 classes.\n"
          ]
        }
      ],
      "source": [
        "validation_generator = validation_data_gen.flow_from_directory(\n",
        "\t\t'/content/test',\n",
        "\t\ttarget_size=(48, 48),\n",
        "\t\tbatch_size=64,\n",
        "\t\tcolor_mode=\"grayscale\",\n",
        "\t\tclass_mode='categorical')\n"
      ]
    },
    {
      "cell_type": "code",
      "execution_count": null,
      "metadata": {
        "colab": {
          "base_uri": "https://localhost:8080/"
        },
        "id": "mn-Lnd3tGvaH",
        "outputId": "f59f64d6-4101-42b4-9dae-b3fc1d21e8c8"
      },
      "outputs": [
        {
          "name": "stdout",
          "output_type": "stream",
          "text": [
            "Model: \"sequential\"\n",
            "_________________________________________________________________\n",
            " Layer (type)                Output Shape              Param #   \n",
            "=================================================================\n",
            " conv2d (Conv2D)             (None, 46, 46, 32)        320       \n",
            "                                                                 \n",
            " conv2d_1 (Conv2D)           (None, 44, 44, 64)        18496     \n",
            "                                                                 \n",
            " max_pooling2d (MaxPooling2  (None, 22, 22, 64)        0         \n",
            " D)                                                              \n",
            "                                                                 \n",
            " dropout (Dropout)           (None, 22, 22, 64)        0         \n",
            "                                                                 \n",
            " conv2d_2 (Conv2D)           (None, 20, 20, 128)       73856     \n",
            "                                                                 \n",
            " max_pooling2d_1 (MaxPoolin  (None, 10, 10, 128)       0         \n",
            " g2D)                                                            \n",
            "                                                                 \n",
            " conv2d_3 (Conv2D)           (None, 8, 8, 128)         147584    \n",
            "                                                                 \n",
            " max_pooling2d_2 (MaxPoolin  (None, 4, 4, 128)         0         \n",
            " g2D)                                                            \n",
            "                                                                 \n",
            " dropout_1 (Dropout)         (None, 4, 4, 128)         0         \n",
            "                                                                 \n",
            " flatten (Flatten)           (None, 2048)              0         \n",
            "                                                                 \n",
            " dense (Dense)               (None, 1024)              2098176   \n",
            "                                                                 \n",
            " dropout_2 (Dropout)         (None, 1024)              0         \n",
            "                                                                 \n",
            " dense_1 (Dense)             (None, 7)                 7175      \n",
            "                                                                 \n",
            "=================================================================\n",
            "Total params: 2345607 (8.95 MB)\n",
            "Trainable params: 2345607 (8.95 MB)\n",
            "Non-trainable params: 0 (0.00 Byte)\n",
            "_________________________________________________________________\n"
          ]
        }
      ],
      "source": [
        "emotion_model = Sequential()\n",
        "\n",
        "emotion_model.add(Conv2D(32, kernel_size=(3, 3), activation='relu',\n",
        "\t\t\t\t\t\tinput_shape=(48, 48, 1)))\n",
        "emotion_model.add(Conv2D(64, kernel_size=(3, 3), activation='relu'))\n",
        "emotion_model.add(MaxPooling2D(pool_size=(2, 2)))\n",
        "emotion_model.add(Dropout(0.25))\n",
        "\n",
        "emotion_model.add(Conv2D(128, kernel_size=(3, 3), activation='relu'))\n",
        "emotion_model.add(MaxPooling2D(pool_size=(2, 2)))\n",
        "emotion_model.add(Conv2D(128, kernel_size=(3, 3), activation='relu'))\n",
        "emotion_model.add(MaxPooling2D(pool_size=(2, 2)))\n",
        "emotion_model.add(Dropout(0.25))\n",
        "\n",
        "emotion_model.add(Flatten())\n",
        "emotion_model.add(Dense(1024, activation='relu'))\n",
        "emotion_model.add(Dropout(0.5))\n",
        "emotion_model.add(Dense(7, activation='softmax'))\n",
        "\n",
        "emotion_model.summary()\n",
        "\n",
        "cv2.ocl.setUseOpenCL(False)\n",
        "\n",
        "initial_learning_rate = 0.0001\n",
        "lr_schedule = ExponentialDecay(initial_learning_rate, decay_steps=100000,\n",
        "\t\t\t\t\t\t\tdecay_rate=0.96)\n",
        "\n",
        "optimizer = Adam(learning_rate=lr_schedule)\n",
        "\n",
        "emotion_model.compile(loss='categorical_crossentropy', optimizer=optimizer,\n",
        "\t\t\t\t\tmetrics=['accuracy'])\n"
      ]
    },
    {
      "cell_type": "code",
      "execution_count": null,
      "metadata": {
        "colab": {
          "background_save": true,
          "base_uri": "https://localhost:8080/"
        },
        "id": "kFo4oMpDG1tz",
        "outputId": "ed59fbed-98df-433f-c4c1-f7a6c02d07af"
      },
      "outputs": [
        {
          "name": "stdout",
          "output_type": "stream",
          "text": [
            "Epoch 1/30\n",
            "448/448 [==============================] - 24s 39ms/step - loss: 1.8079 - accuracy: 0.2527 - val_loss: 1.7487 - val_accuracy: 0.3117\n",
            "Epoch 2/30\n",
            "448/448 [==============================] - 13s 29ms/step - loss: 1.6499 - accuracy: 0.3554 - val_loss: 1.5660 - val_accuracy: 0.3965\n",
            "Epoch 3/30\n",
            "448/448 [==============================] - 14s 31ms/step - loss: 1.5421 - accuracy: 0.4095 - val_loss: 1.4715 - val_accuracy: 0.4385\n",
            "Epoch 4/30\n",
            "448/448 [==============================] - 14s 30ms/step - loss: 1.4655 - accuracy: 0.4375 - val_loss: 1.4014 - val_accuracy: 0.4714\n",
            "Epoch 5/30\n",
            "448/448 [==============================] - 13s 29ms/step - loss: 1.4044 - accuracy: 0.4644 - val_loss: 1.3709 - val_accuracy: 0.4778\n",
            "Epoch 6/30\n",
            "448/448 [==============================] - 13s 30ms/step - loss: 1.3487 - accuracy: 0.4898 - val_loss: 1.3257 - val_accuracy: 0.4986\n",
            "Epoch 7/30\n",
            "448/448 [==============================] - 13s 29ms/step - loss: 1.3038 - accuracy: 0.5068 - val_loss: 1.2906 - val_accuracy: 0.5095\n",
            "Epoch 8/30\n",
            "448/448 [==============================] - 13s 29ms/step - loss: 1.2643 - accuracy: 0.5214 - val_loss: 1.2602 - val_accuracy: 0.5199\n",
            "Epoch 9/30\n",
            "448/448 [==============================] - 14s 31ms/step - loss: 1.2298 - accuracy: 0.5344 - val_loss: 1.2225 - val_accuracy: 0.5296\n",
            "Epoch 10/30\n",
            "448/448 [==============================] - 13s 29ms/step - loss: 1.1939 - accuracy: 0.5479 - val_loss: 1.2042 - val_accuracy: 0.5375\n",
            "Epoch 11/30\n",
            "448/448 [==============================] - 13s 29ms/step - loss: 1.1677 - accuracy: 0.5633 - val_loss: 1.1908 - val_accuracy: 0.5456\n",
            "Epoch 12/30\n",
            "448/448 [==============================] - 14s 32ms/step - loss: 1.1378 - accuracy: 0.5746 - val_loss: 1.1762 - val_accuracy: 0.5526\n",
            "Epoch 13/30\n",
            "448/448 [==============================] - 14s 31ms/step - loss: 1.1150 - accuracy: 0.5827 - val_loss: 1.1716 - val_accuracy: 0.5547\n",
            "Epoch 14/30\n",
            "448/448 [==============================] - 13s 29ms/step - loss: 1.0869 - accuracy: 0.5951 - val_loss: 1.1406 - val_accuracy: 0.5720\n",
            "Epoch 15/30\n",
            "448/448 [==============================] - 13s 30ms/step - loss: 1.0585 - accuracy: 0.6073 - val_loss: 1.1391 - val_accuracy: 0.5714\n",
            "Epoch 16/30\n",
            "448/448 [==============================] - 13s 29ms/step - loss: 1.0405 - accuracy: 0.6114 - val_loss: 1.1346 - val_accuracy: 0.5753\n",
            "Epoch 17/30\n",
            "448/448 [==============================] - 13s 30ms/step - loss: 1.0182 - accuracy: 0.6223 - val_loss: 1.1279 - val_accuracy: 0.5776\n",
            "Epoch 18/30\n",
            "448/448 [==============================] - 15s 34ms/step - loss: 0.9907 - accuracy: 0.6334 - val_loss: 1.1024 - val_accuracy: 0.5922\n",
            "Epoch 19/30\n",
            "448/448 [==============================] - 13s 29ms/step - loss: 0.9681 - accuracy: 0.6411 - val_loss: 1.1009 - val_accuracy: 0.5901\n",
            "Epoch 20/30\n",
            "448/448 [==============================] - 13s 29ms/step - loss: 0.9462 - accuracy: 0.6510 - val_loss: 1.0893 - val_accuracy: 0.5977\n",
            "Epoch 21/30\n",
            "448/448 [==============================] - 13s 29ms/step - loss: 0.9245 - accuracy: 0.6575 - val_loss: 1.0846 - val_accuracy: 0.5957\n",
            "Epoch 22/30\n",
            "448/448 [==============================] - 13s 29ms/step - loss: 0.9010 - accuracy: 0.6660 - val_loss: 1.0869 - val_accuracy: 0.5960\n",
            "Epoch 23/30\n",
            "448/448 [==============================] - 13s 29ms/step - loss: 0.8765 - accuracy: 0.6776 - val_loss: 1.0938 - val_accuracy: 0.6057\n",
            "Epoch 24/30\n",
            "448/448 [==============================] - 13s 29ms/step - loss: 0.8460 - accuracy: 0.6910 - val_loss: 1.0904 - val_accuracy: 0.6041\n",
            "Epoch 25/30\n",
            "448/448 [==============================] - 14s 32ms/step - loss: 0.8307 - accuracy: 0.6941 - val_loss: 1.0772 - val_accuracy: 0.6110\n",
            "Epoch 26/30\n",
            "448/448 [==============================] - 13s 29ms/step - loss: 0.8056 - accuracy: 0.7028 - val_loss: 1.0765 - val_accuracy: 0.6123\n",
            "Epoch 27/30\n",
            "448/448 [==============================] - 13s 28ms/step - loss: 0.7763 - accuracy: 0.7155 - val_loss: 1.0841 - val_accuracy: 0.6081\n",
            "Epoch 28/30\n",
            "448/448 [==============================] - 13s 28ms/step - loss: 0.7572 - accuracy: 0.7240 - val_loss: 1.0823 - val_accuracy: 0.6137\n",
            "Epoch 29/30\n",
            "448/448 [==============================] - 13s 29ms/step - loss: 0.7385 - accuracy: 0.7298 - val_loss: 1.0738 - val_accuracy: 0.6131\n",
            "Epoch 30/30\n",
            "448/448 [==============================] - 13s 28ms/step - loss: 0.7119 - accuracy: 0.7423 - val_loss: 1.0839 - val_accuracy: 0.6170\n"
          ]
        },
        {
          "data": {
            "text/plain": [
              "<keras.src.callbacks.History at 0x7a26b1e635e0>"
            ]
          },
          "execution_count": 8,
          "metadata": {},
          "output_type": "execute_result"
        }
      ],
      "source": [
        "emotion_model.fit(\n",
        "\t\ttrain_generator,\n",
        "\t\tsteps_per_epoch=28709 // 64,\n",
        "\t\tepochs=30,\n",
        "\t\tvalidation_data=validation_generator,\n",
        "\t\tvalidation_steps=7178 // 64)\n"
      ]
    },
    {
      "cell_type": "code",
      "execution_count": null,
      "metadata": {
        "colab": {
          "background_save": true
        },
        "id": "p7xrJHG4HLmp",
        "outputId": "45eaf75a-442b-46ac-9647-229145f0bb7f"
      },
      "outputs": [
        {
          "name": "stdout",
          "output_type": "stream",
          "text": [
            "Model saved successfully\n"
          ]
        },
        {
          "name": "stderr",
          "output_type": "stream",
          "text": [
            "/usr/local/lib/python3.10/dist-packages/keras/src/engine/training.py:3103: UserWarning: You are saving your model as an HDF5 file via `model.save()`. This file format is considered legacy. We recommend using instead the native Keras format, e.g. `model.save('my_model.keras')`.\n",
            "  saving_api.save_model(\n"
          ]
        }
      ],
      "source": [
        "emotion_model.save('dog_vs_cat_classification_model.h5')\n",
        "print(\"Model saved successfully\")"
      ]
    },
    {
      "cell_type": "code",
      "execution_count": null,
      "metadata": {
        "id": "Y3dx2cTSJs0D"
      },
      "outputs": [],
      "source": [
        "emotion_model.evaluate(validation_generator)\n"
      ]
    },
    {
      "cell_type": "code",
      "execution_count": null,
      "metadata": {
        "id": "m5U61cc-PsGV"
      },
      "outputs": [],
      "source": [
        "import matplotlib.pyplot as plt\n",
        "\n",
        "# Accuracy graph\n",
        "plt.subplot(1, 2, 1)\n",
        "plt.plot(accuracy, label='accuracy')\n",
        "plt.plot(val_accuracy, label='val accuracy')\n",
        "plt.title('Accuracy Graph')\n",
        "plt.xlabel('Epochs')\n",
        "plt.ylabel('Accuracy')\n",
        "plt.legend()\n",
        "\n",
        "# loss graph\n",
        "plt.subplot(1, 2, 2)\n",
        "plt.plot(loss, label='loss')\n",
        "plt.plot(val_loss, label='val loss')\n",
        "plt.title('Loss Graph')\n",
        "plt.xlabel('Epochs')\n",
        "plt.ylabel('Loss')\n",
        "plt.legend()\n",
        "\n",
        "plt.show()\n"
      ]
    },
    {
      "cell_type": "code",
      "execution_count": null,
      "metadata": {
        "id": "YJoq6pH6Px1L"
      },
      "outputs": [],
      "source": [
        "emotion_dict = {0: \"Angry\", 1: \"Disgusted\", 2: \"Fearful\",\n",
        "\t\t\t\t3: \"Happy\", 4: \"Neutral\", 5: \"Sad\", 6: \"Surprised\"}\n"
      ]
    },
    {
      "cell_type": "code",
      "execution_count": null,
      "metadata": {
        "id": "kbsuqM5TP5d1"
      },
      "outputs": [],
      "source": [
        "json_file = open('emotion_model.json', 'r')\n",
        "loaded_model_json = json_file.read()\n",
        "json_file.close()\n",
        "emotion_model = model_from_json(loaded_model_json)\n"
      ]
    },
    {
      "cell_type": "code",
      "execution_count": null,
      "metadata": {
        "id": "GOmj-l1jP9Q3"
      },
      "outputs": [],
      "source": [
        "cap = cv2.VideoCapture(0)\n",
        "while True:\n",
        "\t# Find haar cascade to draw bounding box around face\n",
        "\tret, frame = cap.read()\n",
        "\tframe = cv2.resize(frame, (1280, 720))\n",
        "\tif not ret:\n",
        "\t\tprint(ret)\n",
        "\t# Create a face detector\n",
        "\tface_detector = cv2.CascadeClassifier(cv2.data.haarcascades + 'haarcascade_frontalface_default.xml')\n",
        "\n",
        "\tgray_frame = cv2.cvtColor(frame, cv2.COLOR_BGR2GRAY)\n",
        "\n",
        "\t# detect faces available on camera\n",
        "\tnum_faces = face_detector.detectMultiScale(gray_frame,\n",
        "\t\t\t\t\t\t\t\t\t\t\tscaleFactor=1.3, minNeighbors=5)\n",
        "\n",
        "\t# take each face available on the camera and Preprocess it\n",
        "\tfor (x, y, w, h) in num_faces:\n",
        "\tcv2.rectangle(frame, (x, y-50), (x+w, y+h+10), (0, 255, 0), 4)\n",
        "\t\troi_gray_frame = gray_frame[y:y + h, x:x + w]\n",
        "\t\tcropped_img = np.expand_dims(np.expand_dims(cv2.resize(roi_gray_frame,\n",
        "\t\t\t\t\t\t\t\t\t\t\t\t\t\t\t(48, 48)), -1), 0)\n",
        "\n",
        "\t\t# predict the emotions\n",
        "\t\temotion_prediction = emotion_model.predict(cropped_img)\n",
        "\t\tmaxindex = int(np.argmax(emotion_prediction))\n",
        "\t\tcv2.putText(frame, emotion_dict[maxindex], (x+5, y-20),\n",
        "\t\t\t\t\tcv2.FONT_HERSHEY_SIMPLEX, 1, (0, 0, 255), 2, cv2.LINE_AA)\n",
        "\n",
        "\tcv2.imshow('Emotion Detection', frame)\n",
        "\tif cv2.waitKey(1) & 0xFF == ord('q'):\n",
        "\t\tbreak\n",
        "\n",
        "cap.release()\n",
        "cv2.destroyAllWindows()\n"
      ]
    },
    {
      "cell_type": "code",
      "execution_count": null,
      "metadata": {
        "id": "vh5iJj9hcjJc"
      },
      "outputs": [],
      "source": []
    }
  ],
  "metadata": {
    "accelerator": "GPU",
    "colab": {
      "gpuType": "T4",
      "provenance": []
    },
    "kernelspec": {
      "display_name": "Python 3",
      "name": "python3"
    },
    "language_info": {
      "name": "python"
    }
  },
  "nbformat": 4,
  "nbformat_minor": 0
}